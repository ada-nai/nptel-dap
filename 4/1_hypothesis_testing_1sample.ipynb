{
  "nbformat": 4,
  "nbformat_minor": 0,
  "metadata": {
    "colab": {
      "name": "4.1_hypothesis_testing_1sample.ipynb",
      "provenance": [],
      "collapsed_sections": [],
      "include_colab_link": true
    },
    "kernelspec": {
      "name": "python3",
      "display_name": "Python 3"
    },
    "language_info": {
      "name": "python"
    }
  },
  "cells": [
    {
      "cell_type": "markdown",
      "metadata": {
        "id": "view-in-github",
        "colab_type": "text"
      },
      "source": [
        "<a href=\"https://colab.research.google.com/github/ada-nai/nptel-dap/blob/master/4/1_hypothesis_testing_1sample.ipynb\" target=\"_parent\"><img src=\"https://colab.research.google.com/assets/colab-badge.svg\" alt=\"Open In Colab\"/></a>"
      ]
    },
    {
      "cell_type": "markdown",
      "source": [
        "# Hpothesis Testing"
      ],
      "metadata": {
        "id": "darbRlORFJH2"
      }
    },
    {
      "cell_type": "code",
      "execution_count": null,
      "metadata": {
        "id": "h-OSXmXOFIEt"
      },
      "outputs": [],
      "source": [
        "from scipy import stats\n",
        "import numpy as np"
      ]
    },
    {
      "cell_type": "code",
      "source": [
        "x = [10, 12, 20, 21, 22, 24, 18, 15]\n",
        "  "
      ],
      "metadata": {
        "id": "JWnrKdkkFNz0"
      },
      "execution_count": null,
      "outputs": []
    },
    {
      "cell_type": "markdown",
      "source": [
        "## t-test ($σ$ not known)\n",
        "$\n",
        "H_0 : \\mu = 15 \\\\\n",
        "H_a : \\mu \\neq 15\n",
        "$"
      ],
      "metadata": {
        "id": "FESXR9kOFptG"
      }
    },
    {
      "cell_type": "code",
      "source": [
        "# mu=15 -> assumed mean\n",
        "stats.ttest_1samp(x, 15)"
      ],
      "metadata": {
        "colab": {
          "base_uri": "https://localhost:8080/"
        },
        "id": "RfUAwN68FTJZ",
        "outputId": "d42aee3a-2740-497a-cd2b-b3c27a3769b2"
      },
      "execution_count": null,
      "outputs": [
        {
          "output_type": "execute_result",
          "data": {
            "text/plain": [
              "Ttest_1sampResult(statistic=1.5623450931857947, pvalue=0.1621787560592894)"
            ]
          },
          "metadata": {},
          "execution_count": 3
        }
      ]
    },
    {
      "cell_type": "markdown",
      "source": [
        "### Problem: Icecream sales\n",
        "In an ice cream parlor, the `icecream.xlsx`  data represents the number of ice-creams sold in 20 days \\\\\n",
        "Test hypothesis $Ho: \\mu < 10$. \n",
        "Use $\\alpha = 0.05$ to test the hypothesis."
      ],
      "metadata": {
        "id": "6oefB5DJHbY0"
      }
    },
    {
      "cell_type": "code",
      "source": [
        "import pandas as pd\n",
        "\n",
        "icecream = pd.read_excel(\"https://github.com/ada-nai/nptel-dap/blob/master/4/data/icecream.xlsx?raw=true\")"
      ],
      "metadata": {
        "id": "ogMl2DImFYUz"
      },
      "execution_count": null,
      "outputs": []
    },
    {
      "cell_type": "code",
      "source": [
        "sales = icecream['Number of ice cream sold']"
      ],
      "metadata": {
        "id": "mH5pdEQFIOpT"
      },
      "execution_count": null,
      "outputs": []
    },
    {
      "cell_type": "code",
      "source": [
        "stats.ttest_1samp(sales, 10)"
      ],
      "metadata": {
        "colab": {
          "base_uri": "https://localhost:8080/"
        },
        "id": "6zxVTE24ITVy",
        "outputId": "ae4d70bc-ab92-4a4a-aa1e-16910f35e038"
      },
      "execution_count": null,
      "outputs": [
        {
          "output_type": "execute_result",
          "data": {
            "text/plain": [
              "Ttest_1sampResult(statistic=-0.35843385854878496, pvalue=0.7239703579964252)"
            ]
          },
          "metadata": {},
          "execution_count": 6
        }
      ]
    },
    {
      "cell_type": "markdown",
      "source": [
        "Above `pvalue` obtained is for two-tailed test. Thus we need to divide by 2 "
      ],
      "metadata": {
        "id": "QXpDsj2WJLrr"
      }
    },
    {
      "cell_type": "code",
      "source": [
        "pvalue=0.7239703579964252\n",
        "pvalue/2"
      ],
      "metadata": {
        "colab": {
          "base_uri": "https://localhost:8080/"
        },
        "id": "S20aALJxIlsr",
        "outputId": "92bf1b4e-7d67-430f-c0dc-921bc425fd0a"
      },
      "execution_count": null,
      "outputs": [
        {
          "output_type": "execute_result",
          "data": {
            "text/plain": [
              "0.3619851789982126"
            ]
          },
          "metadata": {},
          "execution_count": 7
        }
      ]
    },
    {
      "cell_type": "markdown",
      "source": [
        "$0.36 > 0.05$. Thus we fail to reject $H_0$"
      ],
      "metadata": {
        "id": "bLfFcuUdJnJS"
      }
    },
    {
      "cell_type": "markdown",
      "source": [
        "## Proportion Test (z-test)"
      ],
      "metadata": {
        "id": "p6dQjbSEKQUh"
      }
    },
    {
      "cell_type": "code",
      "source": [
        "from statsmodels.stats.proportion import proportions_ztest\n",
        "\n",
        "count = 67\n",
        "sample_size = 120\n",
        "P = 0.5"
      ],
      "metadata": {
        "id": "owPg6dU3Jiy-",
        "colab": {
          "base_uri": "https://localhost:8080/"
        },
        "outputId": "fde5ebcd-fc10-47b1-9a34-79b0af4790b5"
      },
      "execution_count": null,
      "outputs": [
        {
          "output_type": "stream",
          "name": "stderr",
          "text": [
            "/usr/local/lib/python3.7/dist-packages/statsmodels/tools/_testing.py:19: FutureWarning: pandas.util.testing is deprecated. Use the functions in the public API at pandas.testing instead.\n",
            "  import pandas.util.testing as tm\n"
          ]
        }
      ]
    },
    {
      "cell_type": "code",
      "source": [
        "proportions_ztest(count, sample_size, P)"
      ],
      "metadata": {
        "colab": {
          "base_uri": "https://localhost:8080/"
        },
        "id": "Jr-U5Vb8KaLQ",
        "outputId": "ca071604-f778-46ad-9517-526407695719"
      },
      "execution_count": null,
      "outputs": [
        {
          "output_type": "execute_result",
          "data": {
            "text/plain": [
              "(1.286806739751111, 0.1981616572238455)"
            ]
          },
          "metadata": {},
          "execution_count": 9
        }
      ]
    },
    {
      "cell_type": "markdown",
      "source": [
        "The output is (z-statistic, p-value)"
      ],
      "metadata": {
        "id": "dQcH-fEiK04h"
      }
    },
    {
      "cell_type": "markdown",
      "source": [
        "## Errors in Hypothesis Testing\n",
        "- Type I error\n",
        "- Type II error"
      ],
      "metadata": {
        "id": "FOX-XNMCLINk"
      }
    },
    {
      "cell_type": "markdown",
      "source": [
        "### Calculating Type I error"
      ],
      "metadata": {
        "id": "TCO1maBXNtm8"
      }
    },
    {
      "cell_type": "code",
      "source": [
        "# Define function to calculate alpha value\n",
        "def get_alpha(x, mu, std_error_mean):\n",
        "  z = (x-mu)/std_error_mean\n",
        "  if (z<0):\n",
        "    alpha = stats.norm.cdf(z)\n",
        "  else:\n",
        "    alpha = 1 - stats.norm.cdf(z)\n",
        "  return alpha"
      ],
      "metadata": {
        "id": "OhvHwkPlKmfO"
      },
      "execution_count": null,
      "outputs": []
    },
    {
      "cell_type": "code",
      "source": [
        "x = 48.5\n",
        "mu = 50 \n",
        "sem = 0.79\n",
        "\n",
        "get_alpha(x, mu, sem)"
      ],
      "metadata": {
        "colab": {
          "base_uri": "https://localhost:8080/"
        },
        "id": "nnXQgX9RLtzI",
        "outputId": "94fbc059-d6df-4c74-8103-50a44c8c3950"
      },
      "execution_count": null,
      "outputs": [
        {
          "output_type": "execute_result",
          "data": {
            "text/plain": [
              "0.02879971774715278"
            ]
          },
          "metadata": {},
          "execution_count": 11
        }
      ]
    },
    {
      "cell_type": "markdown",
      "source": [
        "This is Type I error for one tailed test. For total error, we need to multiply by 2"
      ],
      "metadata": {
        "id": "ZHW2JPO2N3rU"
      }
    },
    {
      "cell_type": "code",
      "source": [
        "0.02879971774715278*2"
      ],
      "metadata": {
        "colab": {
          "base_uri": "https://localhost:8080/"
        },
        "id": "fNCsLwCmL-JP",
        "outputId": "385e2d40-a8cd-42c5-89c5-00c72e3fdf52"
      },
      "execution_count": null,
      "outputs": [
        {
          "output_type": "execute_result",
          "data": {
            "text/plain": [
              "0.05759943549430556"
            ]
          },
          "metadata": {},
          "execution_count": 12
        }
      ]
    },
    {
      "cell_type": "markdown",
      "source": [
        "- This implies that 5.76% of all random samples would lead to rejection of $H_0: \\mu=50$\n",
        "- Type I errors can be reduced by widening the acceptance region"
      ],
      "metadata": {
        "id": "fJtz9PgtOELs"
      }
    },
    {
      "cell_type": "markdown",
      "source": [
        "### Calculating Type II error\n"
      ],
      "metadata": {
        "id": "GiTA_arBPl0f"
      }
    },
    {
      "cell_type": "markdown",
      "source": [
        "#### Problem: Service time  \n",
        "\n",
        "The mean response time for a random sample of 40 food orders is 13.25 minutes. The population standard deviation is believed to be 3.2 minutes. The restaurant owner wants to perform a hypothesis test, with $\\alpha=0.05$  level of significance, to determine whether the service goal of 12 minutes or less is being achieved."
      ],
      "metadata": {
        "id": "Yvyst5BDQfRw"
      }
    },
    {
      "cell_type": "markdown",
      "source": [
        "$\n",
        "H_0: \\mu \\leq 12; H_a: \\mu > 12 \\\\\n",
        "n=40, \\sigma=3.2 \\\\\n",
        "Reject \\text{  } H_0 \\text{  } if \\text{  } z \\geq z_{\\alpha} = 1.645\n",
        "$"
      ],
      "metadata": {
        "id": "QNPBQu4eRFXs"
      }
    },
    {
      "cell_type": "markdown",
      "source": [
        "Using z-value, we can get a threshold for $\\bar x$ for it to be in acceptance region\n",
        "\n",
        "Accept $H_0$ if $\\bar x <= 12.8323$"
      ],
      "metadata": {
        "id": "lplXg13GTMDO"
      }
    },
    {
      "cell_type": "code",
      "source": [
        "def type2(assumed_mean, true_mean, sigma, n, alpha):\n",
        "  z = stats.norm.ppf(alpha)\n",
        "  xbar = assumed_mean + ((z*sigma)/np.sqrt(n))\n",
        "  z2 = (xbar - true_mean) / (sigma/np.sqrt(n))\n",
        "  if (assumed_mean > true_mean):\n",
        "    beta = 1-stats.norm.cdf(z2)\n",
        "  else:\n",
        "    beta = stats.norm.cdf(z2)\n",
        "  return beta"
      ],
      "metadata": {
        "id": "fi6PQ1TRVA3X"
      },
      "execution_count": null,
      "outputs": []
    },
    {
      "cell_type": "code",
      "source": [
        "  def get_type2(assumed_mean):\n",
        "    \n",
        "\n",
        "    beta = type2(assumed_mean, true_mean, sigma, n, alpha)\n",
        "\n",
        "    return beta"
      ],
      "metadata": {
        "id": "WFhtUCPeNn0o"
      },
      "execution_count": null,
      "outputs": []
    },
    {
      "cell_type": "code",
      "source": [
        "true_mean = 12\n",
        "sigma = 3.2\n",
        "n = 40\n",
        "alpha = 0.05\n",
        "\n",
        "assumed_means = [14, 13.6, 13.2, 12.8323, 12.8, 12.4, 12.0001, 12]\n",
        "\n",
        "print('assumed_mean : beta')\n",
        "for mean in assumed_means:\n",
        "  beta = type2(mean, true_mean, sigma, n, alpha)\n",
        "  print(f'{mean}: {beta}')"
      ],
      "metadata": {
        "colab": {
          "base_uri": "https://localhost:8080/"
        },
        "id": "rtR30IODW9kz",
        "outputId": "0cd9baa5-aeaa-42bf-ca57-aea74316b80b"
      },
      "execution_count": null,
      "outputs": [
        {
          "output_type": "stream",
          "name": "stdout",
          "text": [
            "assumed_mean : beta\n",
            "14: 0.010499750448532241\n",
            "13.6: 0.06457982995225997\n",
            "13.2: 0.2336575101104159\n",
            "12.8323: 0.49995065746353273\n",
            "12.8: 0.5254013387545549\n",
            "12.4: 0.8035262335707292\n",
            "12.0001: 0.9499796127157129\n",
            "12: 0.050000000000000024\n"
          ]
        }
      ]
    },
    {
      "cell_type": "code",
      "source": [
        ""
      ],
      "metadata": {
        "id": "SyPsUnJgXXec"
      },
      "execution_count": null,
      "outputs": []
    }
  ]
}